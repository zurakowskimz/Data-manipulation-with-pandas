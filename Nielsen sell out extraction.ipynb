{
 "cells": [
  {
   "cell_type": "code",
   "execution_count": null,
   "metadata": {
    "collapsed": true
   },
   "outputs": [],
   "source": [
    "import pandas as pd\n",
    "import numpy as np\n",
    "\n",
    "\n",
    "\n",
    "RSN = pd.read_excel('Pobrane/EASY ANSWERS.xlsx',usecols = [0,1,2,3,4,5,6,7], skiprows=8, na_filter=True)\n",
    "\n",
    "RSN[\"key\"] = RSN[\"Category\"] + RSN[\"Month\"]\n",
    "\n",
    "categories = pd.DataFrame(RSN.groupby([\"Category\",\"Month\"])[\"Value\"].sum()).reset_index()\n",
    "categories[\"key\"] = categories[\"Category\"] + categories[\"Month\"]\n",
    "categories.drop([\"Category\",\"Month\"], axis=1, inplace=True)\n",
    "\n",
    "RSN = RSN.merge(categories, on=\"key\", how='left')\n",
    "RSN.drop([\"key\"], axis=1, inplace=True)\n",
    "RSN.columns = [\"Category\",\"Segment\",\"Sub_Segment\",\"Manufacturer\",\"Brand\",\"Year\",\"Month\",\"Sell_Out_Value\", \"Category_Sell_Out_Value\"]\n",
    "\n",
    "RSN[\"MS_Category\"] = RSN[\"Sell_Out_Value\"]/RSN[\"Category_Sell_Out_Value\"]\n",
    "\n",
    "RSN.drop([\"Category_Sell_Out_Value\"], axis=1, inplace=True)\n",
    "\n",
    "writer = pd.ExcelWriter('RSN_ms.xlsx')\n",
    "Auchan_Loreal.to_excel(writer,'Sell_Out')\n",
    "\n",
    "writer.save()\n"
   ]
  }
 ],
 "metadata": {
  "kernelspec": {
   "display_name": "Python 3",
   "language": "python",
   "name": "python3"
  },
  "language_info": {
   "codemirror_mode": {
    "name": "ipython",
    "version": 3
   },
   "file_extension": ".py",
   "mimetype": "text/x-python",
   "name": "python",
   "nbconvert_exporter": "python",
   "pygments_lexer": "ipython3",
   "version": "3.6.0"
  }
 },
 "nbformat": 4,
 "nbformat_minor": 2
}
