{
 "cells": [
  {
   "cell_type": "code",
   "execution_count": 2,
   "metadata": {
    "collapsed": false
   },
   "outputs": [
    {
     "name": "stderr",
     "output_type": "stream",
     "text": [
      "/home/kodolamacz/anaconda3/lib/python3.6/site-packages/ipykernel/__main__.py:37: UserWarning: Boolean Series key will be reindexed to match DataFrame index.\n"
     ]
    }
   ],
   "source": [
    "import pandas as pd\n",
    "import numpy as np\n",
    "import datetime\n",
    "now = datetime.datetime.now()\n",
    "\n",
    "euro = 4.227\n",
    "distribution = 76\n",
    "\n",
    "Auchan = pd.read_excel('Pobrane/Kwiecien_2018.xlsx', skiprows=2, na_filter=True)\n",
    "\n",
    "Auchan.drop([\"Distribution Weighted\",\"Unnamed: 15\"], axis=1, inplace=True)\n",
    "Auchan.dropna(axis=0,how=\"all\",inplace=True)\n",
    "\n",
    "Auchan[\"MS_category\"] = Auchan[\"Turnover\"]/Auchan[\"Turnover Auchan\"]\n",
    "Auchan[\"Distribution\"] = (Auchan[\"Distribution Numerical\"]/Auchan[\"Distribution Numerical\"].max())*distribution\n",
    "Auchan[\"Sell_Out_Value\"] = Auchan[\"Turnover\"]*euro\n",
    "Auchan[\"Sell_Out_Value_LY\"] = (Auchan[\"Turnover\"] - Auchan[\"Variance Turnover\"])*euro\n",
    "Auchan[\"Sell_Out_Evolution\"] = Auchan[\"Sell_Out_Value\"]/Auchan[\"Sell_Out_Value_LY\"] - 1\n",
    "\n",
    "EAN = []\n",
    "Product = Auchan[\"Product\"].tolist()\n",
    "for el in Product:\n",
    "    if str(el) == '*** ALL PRODUCT':\n",
    "        ean = 'nan'\n",
    "    else:\n",
    "        index = str(el).index(\"-\")\n",
    "        ean = str(el)[:index-1]\n",
    "        \n",
    "    EAN.append(ean)\n",
    "\n",
    "Auchan[\"EAN\"] = EAN    \n",
    "\n",
    "Auchan_Loreal = Auchan[Auchan[\"EAN\"]!=\"nan\"][[\"EAN\",\"Sub-Department\",\"Category\",\"Range\",\"Product\",\"Sell_Out_Value\",\"Sell_Out_Value_LY\",\n",
    "                              \"Sell_Out_Evolution\",\"MS_category\",\"Distribution\"]]\n",
    "\n",
    "categories = Auchan[[\"Sub-Department\",\"Category\", \"Turnover Auchan\"]]\n",
    "categories = categories[categories[\"Sub-Department\"]!=\"*** ALL SUB DEPARTMENT\"][categories[\"Category\"]==\"*** ALL CATEGORY\"]\n",
    "categories.drop(\"Category\", axis=1,inplace=True)\n",
    "categories[\"Turnover Auchan\"] = categories[\"Turnover Auchan\"]*euro\n",
    "\n",
    "Auchan_Loreal = Auchan_Loreal.merge(categories,on=\"Sub-Department\", how='left')\n",
    "Auchan_Loreal[\"MS_Department\"] = Auchan_Loreal[\"Sell_Out_Value\"]/Auchan_Loreal[\"Turnover Auchan\"]\n",
    "\n",
    "Auchan_Loreal.columns = ['EAN', 'Category', 'Segment', 'Range', 'Product',\n",
    "       'Sell_Out_Value', 'Sell_Out_Value_LY', 'Sell_Out_Evolution',\n",
    "       'MS_segment', 'Distribution', 'Category_Turnover', 'MS_Category']\n",
    "\n",
    "writer = pd.ExcelWriter('Auchan_Sell_Out_'+str(now.year)+'_'+str(now.month)+'.xlsx')\n",
    "Auchan_Loreal.to_excel(writer,'Sell_Out')\n",
    "\n",
    "writer.save()\n"
   ]
  },
  {
   "cell_type": "code",
   "execution_count": null,
   "metadata": {
    "collapsed": true
   },
   "outputs": [],
   "source": []
  }
 ],
 "metadata": {
  "kernelspec": {
   "display_name": "Python 3",
   "language": "python",
   "name": "python3"
  },
  "language_info": {
   "codemirror_mode": {
    "name": "ipython",
    "version": 3
   },
   "file_extension": ".py",
   "mimetype": "text/x-python",
   "name": "python",
   "nbconvert_exporter": "python",
   "pygments_lexer": "ipython3",
   "version": "3.6.0"
  }
 },
 "nbformat": 4,
 "nbformat_minor": 2
}
